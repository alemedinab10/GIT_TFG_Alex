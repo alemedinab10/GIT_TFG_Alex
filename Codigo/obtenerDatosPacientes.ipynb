{
 "cells": [
  {
   "cell_type": "code",
   "execution_count": 18,
   "metadata": {},
   "outputs": [],
   "source": [
    "from Paciente import Paciente"
   ]
  },
  {
   "cell_type": "code",
   "execution_count": 19,
   "metadata": {},
   "outputs": [],
   "source": [
    "import os"
   ]
  },
  {
   "cell_type": "code",
   "execution_count": 20,
   "metadata": {},
   "outputs": [
    {
     "name": "stdout",
     "output_type": "stream",
     "text": [
      "No damaged files\n"
     ]
    },
    {
     "name": "stderr",
     "output_type": "stream",
     "text": [
      "Construyendo Mascaras: 100%|██████████| 348/348 [00:09<00:00, 35.33it/s]\n"
     ]
    }
   ],
   "source": [
    "bdd = os.path.join(\"G:\", \"Base_de_Datos\")\n",
    "p = Paciente(55,1,bdd)"
   ]
  },
  {
   "cell_type": "code",
   "execution_count": 21,
   "metadata": {},
   "outputs": [
    {
     "data": {
      "text/html": [
       "<div>\n",
       "<style scoped>\n",
       "    .dataframe tbody tr th:only-of-type {\n",
       "        vertical-align: middle;\n",
       "    }\n",
       "\n",
       "    .dataframe tbody tr th {\n",
       "        vertical-align: top;\n",
       "    }\n",
       "\n",
       "    .dataframe thead th {\n",
       "        text-align: right;\n",
       "    }\n",
       "</style>\n",
       "<table border=\"1\" class=\"dataframe\">\n",
       "  <thead>\n",
       "    <tr style=\"text-align: right;\">\n",
       "      <th></th>\n",
       "      <th>Height</th>\n",
       "      <th>Weight</th>\n",
       "      <th>BSA</th>\n",
       "      <th>Dmax_patient</th>\n",
       "      <th>Dmax_bulk</th>\n",
       "      <th>Spread_bulk</th>\n",
       "      <th>Spread_patient</th>\n",
       "      <th>SDmax_euc</th>\n",
       "      <th>SDmax_man</th>\n",
       "      <th>SDmax_che</th>\n",
       "    </tr>\n",
       "  </thead>\n",
       "  <tbody>\n",
       "    <tr>\n",
       "      <th>0</th>\n",
       "      <td>115.0</td>\n",
       "      <td>71.0</td>\n",
       "      <td>1.506006</td>\n",
       "      <td>152.227696</td>\n",
       "      <td>103.360753</td>\n",
       "      <td>1729.173122</td>\n",
       "      <td>2056.665527</td>\n",
       "      <td>101.080372</td>\n",
       "      <td>168.348406</td>\n",
       "      <td>79.736265</td>\n",
       "    </tr>\n",
       "  </tbody>\n",
       "</table>\n",
       "</div>"
      ],
      "text/plain": [
       "   Height  Weight       BSA  Dmax_patient   Dmax_bulk  Spread_bulk   \n",
       "0   115.0    71.0  1.506006    152.227696  103.360753  1729.173122  \\\n",
       "\n",
       "   Spread_patient   SDmax_euc   SDmax_man  SDmax_che  \n",
       "0     2056.665527  101.080372  168.348406  79.736265  "
      ]
     },
     "execution_count": 21,
     "metadata": {},
     "output_type": "execute_result"
    }
   ],
   "source": [
    "p.calcularParametrosDistancia()"
   ]
  },
  {
   "attachments": {},
   "cell_type": "markdown",
   "metadata": {},
   "source": [
    "16 20 23 24 25 28 34 36 38 42 44 46 47 48 49 50 52 53 55 56 59 61 62 63 65 66 67 69 72 73 74 75 79 80 82 83 84 85 88"
   ]
  },
  {
   "attachments": {},
   "cell_type": "markdown",
   "metadata": {},
   "source": [
    "## Funcionando"
   ]
  },
  {
   "attachments": {},
   "cell_type": "markdown",
   "metadata": {},
   "source": [
    "16  20  23  24  36  44  46  52  55"
   ]
  },
  {
   "attachments": {},
   "cell_type": "markdown",
   "metadata": {},
   "source": [
    "## No Funcionando"
   ]
  },
  {
   "attachments": {},
   "cell_type": "markdown",
   "metadata": {},
   "source": [
    "### Ficheros dañados"
   ]
  },
  {
   "attachments": {},
   "cell_type": "markdown",
   "metadata": {},
   "source": [
    "25 <br>\n",
    "Damaged files\n",
    "\n",
    "CT Error: \n",
    "['DICOM_135.dcm', 'DICOM_136.dcm', 'DICOM_137.dcm', 'DICOM_138.dcm', 'DICOM_139.dcm', 'DICOM_140.dcm', 'DICOM_141.dcm', 'DICOM_142.dcm', 'DICOM_143.dcm', 'DICOM_144.dcm', 'DICOM_145.dcm', 'DICOM_146.dcm', 'DICOM_147.dcm', 'DICOM_148.dcm', 'DICOM_149.dcm', 'DICOM_150.dcm', 'DICOM_151.dcm', 'DICOM_152.dcm', 'DICOM_153.dcm', 'DICOM_154.dcm', 'DICOM_155.dcm', 'DICOM_156.dcm', 'DICOM_157.dcm', 'DICOM_158.dcm', 'DICOM_159.dcm']\n",
    "\n",
    "48 <br>\n",
    "Damaged files\n",
    "\n",
    "CT Error: \n",
    "['DICOM_092.dcm', 'DICOM_093.dcm', 'DICOM_094.dcm', 'DICOM_095.dcm', 'DICOM_096.dcm', 'DICOM_097.dcm', 'DICOM_098.dcm', 'DICOM_099.dcm', 'DICOM_100.dcm', 'DICOM_101.dcm', 'DICOM_102.dcm', 'DICOM_137.dcm', 'DICOM_138.dcm', 'DICOM_139.dcm', 'DICOM_140.dcm', 'DICOM_141.dcm', 'DICOM_142.dcm', 'DICOM_143.dcm', 'DICOM_144.dcm', 'DICOM_145.dcm', 'DICOM_146.dcm']"
   ]
  },
  {
   "attachments": {},
   "cell_type": "markdown",
   "metadata": {},
   "source": [
    "### No funcionan las distacias"
   ]
  },
  {
   "attachments": {},
   "cell_type": "markdown",
   "metadata": {},
   "source": [
    "28 34 47 49"
   ]
  },
  {
   "attachments": {},
   "cell_type": "markdown",
   "metadata": {},
   "source": [
    "### No tiene RTSTRUCT"
   ]
  },
  {
   "attachments": {},
   "cell_type": "markdown",
   "metadata": {},
   "source": [
    "38 42 53"
   ]
  }
 ],
 "metadata": {
  "kernelspec": {
   "display_name": "Python 3",
   "language": "python",
   "name": "python3"
  },
  "language_info": {
   "codemirror_mode": {
    "name": "ipython",
    "version": 3
   },
   "file_extension": ".py",
   "mimetype": "text/x-python",
   "name": "python",
   "nbconvert_exporter": "python",
   "pygments_lexer": "ipython3",
   "version": "3.11.3"
  },
  "orig_nbformat": 4
 },
 "nbformat": 4,
 "nbformat_minor": 2
}
