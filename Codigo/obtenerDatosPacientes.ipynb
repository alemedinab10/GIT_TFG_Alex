{
 "cells": [
  {
   "cell_type": "code",
   "execution_count": 1,
   "metadata": {},
   "outputs": [],
   "source": [
    "from Paciente import Paciente"
   ]
  },
  {
   "cell_type": "code",
   "execution_count": 2,
   "metadata": {},
   "outputs": [],
   "source": [
    "import os"
   ]
  },
  {
   "cell_type": "code",
   "execution_count": 4,
   "metadata": {},
   "outputs": [
    {
     "name": "stdout",
     "output_type": "stream",
     "text": [
      "No damaged files\n"
     ]
    },
    {
     "ename": "FileNotFoundError",
     "evalue": "[Errno 2] No such file or directory: 'F:TFG_AlejandraMedinaBenito\\\\CosasUtiles\\\\BasedeDatos\\\\29\\\\RTSTRUCT.txt'",
     "output_type": "error",
     "traceback": [
      "\u001b[1;31m---------------------------------------------------------------------------\u001b[0m",
      "\u001b[1;31mFileNotFoundError\u001b[0m                         Traceback (most recent call last)",
      "Cell \u001b[1;32mIn[4], line 2\u001b[0m\n\u001b[0;32m      1\u001b[0m bdd \u001b[39m=\u001b[39m os\u001b[39m.\u001b[39mpath\u001b[39m.\u001b[39mjoin(\u001b[39m\"\u001b[39m\u001b[39mF:\u001b[39m\u001b[39m\"\u001b[39m, \u001b[39m\"\u001b[39m\u001b[39mTFG_AlejandraMedinaBenito\u001b[39m\u001b[39m\"\u001b[39m, \u001b[39m\"\u001b[39m\u001b[39mCosasUtiles\u001b[39m\u001b[39m\"\u001b[39m, \u001b[39m\"\u001b[39m\u001b[39mBasedeDatos\u001b[39m\u001b[39m\"\u001b[39m)\n\u001b[1;32m----> 2\u001b[0m p \u001b[39m=\u001b[39m Paciente(\u001b[39m29\u001b[39;49m,\u001b[39m3\u001b[39;49m,bdd)\n",
      "File \u001b[1;32md:\\Codigo\\Git_TFG_Alex\\Codigo\\Paciente.py:31\u001b[0m, in \u001b[0;36mPaciente.__init__\u001b[1;34m(self, paciente, ROI_con_mayor_suvmax, dirBaseDatos)\u001b[0m\n\u001b[0;32m     29\u001b[0m \u001b[39mself\u001b[39m\u001b[39m.\u001b[39mrois \u001b[39m=\u001b[39m \u001b[39mself\u001b[39m\u001b[39m.\u001b[39mobtener_ROI_RTSTRUCT()\n\u001b[0;32m     30\u001b[0m \u001b[39mself\u001b[39m\u001b[39m.\u001b[39mnombres_ROI \u001b[39m=\u001b[39m \u001b[39mself\u001b[39m\u001b[39m.\u001b[39mobtenerNombresROI()\n\u001b[1;32m---> 31\u001b[0m \u001b[39mself\u001b[39m\u001b[39m.\u001b[39mUI_Contornos \u001b[39m=\u001b[39m \u001b[39mself\u001b[39;49m\u001b[39m.\u001b[39;49mobtenerUI_Contornos()\n\u001b[0;32m     32\u001b[0m \u001b[39mself\u001b[39m\u001b[39m.\u001b[39mROI_con_mayor_suvmax \u001b[39m=\u001b[39m ROI_con_mayor_suvmax\n\u001b[0;32m     33\u001b[0m \u001b[39mself\u001b[39m\u001b[39m.\u001b[39mdicom_roi_map \u001b[39m=\u001b[39m \u001b[39mself\u001b[39m\u001b[39m.\u001b[39mobtener_mapa_dicom_ROI()\n",
      "File \u001b[1;32md:\\Codigo\\Git_TFG_Alex\\Codigo\\Paciente.py:525\u001b[0m, in \u001b[0;36mPaciente.obtenerUI_Contornos\u001b[1;34m(self)\u001b[0m\n\u001b[0;32m    523\u001b[0m \u001b[39mdef\u001b[39;00m \u001b[39mobtenerUI_Contornos\u001b[39m(\u001b[39mself\u001b[39m):\n\u001b[0;32m    524\u001b[0m     UI_Contornos \u001b[39m=\u001b[39m \u001b[39mself\u001b[39m\u001b[39m.\u001b[39m_importarContornosRTSTRUCT()\n\u001b[1;32m--> 525\u001b[0m     \u001b[39mself\u001b[39;49m\u001b[39m.\u001b[39;49m_procesar_RTSTRUCT_como_txt()\n\u001b[0;32m    527\u001b[0m     \u001b[39mfor\u001b[39;00m clave_externa \u001b[39min\u001b[39;00m UI_Contornos:\n\u001b[0;32m    528\u001b[0m         \u001b[39mwith\u001b[39;00m \u001b[39mopen\u001b[39m(os\u001b[39m.\u001b[39mpath\u001b[39m.\u001b[39mjoin(\u001b[39mself\u001b[39m\u001b[39m.\u001b[39mdireccionBaseDatos, \u001b[39mstr\u001b[39m(\u001b[39mself\u001b[39m\u001b[39m.\u001b[39mpaciente), \u001b[39m\"\u001b[39m\u001b[39mROI_txt\u001b[39m\u001b[39m\"\u001b[39m, \u001b[39mf\u001b[39m\u001b[39m\"\u001b[39m\u001b[39mfROI_\u001b[39m\u001b[39m{\u001b[39;00mclave_externa\u001b[39m}\u001b[39;00m\u001b[39m.txt\u001b[39m\u001b[39m\"\u001b[39m), \u001b[39m\"\u001b[39m\u001b[39mr\u001b[39m\u001b[39m\"\u001b[39m) \u001b[39mas\u001b[39;00m archivo:\n",
      "File \u001b[1;32md:\\Codigo\\Git_TFG_Alex\\Codigo\\Paciente.py:413\u001b[0m, in \u001b[0;36mPaciente._procesar_RTSTRUCT_como_txt\u001b[1;34m(self)\u001b[0m\n\u001b[0;32m    411\u001b[0m \u001b[39mdef\u001b[39;00m \u001b[39m_procesar_RTSTRUCT_como_txt\u001b[39m(\u001b[39mself\u001b[39m):\n\u001b[0;32m    412\u001b[0m     \u001b[39m# Abrir archivo y leer su contenido\u001b[39;00m\n\u001b[1;32m--> 413\u001b[0m     \u001b[39mwith\u001b[39;00m \u001b[39mopen\u001b[39m(os\u001b[39m.\u001b[39mpath\u001b[39m.\u001b[39mjoin(\u001b[39mself\u001b[39m\u001b[39m.\u001b[39mdireccionBaseDatos, \u001b[39mstr\u001b[39m(\u001b[39mself\u001b[39m\u001b[39m.\u001b[39mpaciente), \u001b[39m\"\u001b[39m\u001b[39mRTSTRUCT.txt\u001b[39m\u001b[39m\"\u001b[39m), encoding\u001b[39m=\u001b[39m\u001b[39m'\u001b[39m\u001b[39mutf-8\u001b[39m\u001b[39m'\u001b[39m) \u001b[39mas\u001b[39;00m archivo:\n\u001b[0;32m    414\u001b[0m         texto \u001b[39m=\u001b[39m archivo\u001b[39m.\u001b[39mread()\n\u001b[0;32m    416\u001b[0m     \u001b[39m# Eliminar caracteres raros\u001b[39;00m\n",
      "\u001b[1;31mFileNotFoundError\u001b[0m: [Errno 2] No such file or directory: 'F:TFG_AlejandraMedinaBenito\\\\CosasUtiles\\\\BasedeDatos\\\\29\\\\RTSTRUCT.txt'"
     ]
    }
   ],
   "source": [
    "bdd = os.path.join(\"F:\", \"TFG_AlejandraMedinaBenito\", \"CosasUtiles\", \"BasedeDatos\")\n",
    "p = Paciente(29,3,bdd)"
   ]
  }
 ],
 "metadata": {
  "kernelspec": {
   "display_name": "Python 3",
   "language": "python",
   "name": "python3"
  },
  "language_info": {
   "codemirror_mode": {
    "name": "ipython",
    "version": 3
   },
   "file_extension": ".py",
   "mimetype": "text/x-python",
   "name": "python",
   "nbconvert_exporter": "python",
   "pygments_lexer": "ipython3",
   "version": "3.11.3"
  },
  "orig_nbformat": 4
 },
 "nbformat": 4,
 "nbformat_minor": 2
}
