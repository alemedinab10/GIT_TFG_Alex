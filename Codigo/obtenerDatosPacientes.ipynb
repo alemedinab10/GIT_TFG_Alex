{
 "cells": [
  {
   "cell_type": "code",
   "execution_count": 1,
   "metadata": {},
   "outputs": [],
   "source": [
    "from Paciente import Paciente"
   ]
  },
  {
   "cell_type": "code",
   "execution_count": 2,
   "metadata": {},
   "outputs": [],
   "source": [
    "import os"
   ]
  },
  {
   "cell_type": "code",
   "execution_count": 24,
   "metadata": {},
   "outputs": [
    {
     "name": "stdout",
     "output_type": "stream",
     "text": [
      "No damaged files\n"
     ]
    },
    {
     "name": "stderr",
     "output_type": "stream",
     "text": [
      "Construyendo Mascaras: 100%|██████████| 583/583 [00:13<00:00, 44.05it/s]\n"
     ]
    }
   ],
   "source": [
    "bdd = os.path.join(\"G:\", \"Base_de_Datos\")\n",
    "p = Paciente(79,1,bdd)"
   ]
  },
  {
   "cell_type": "code",
   "execution_count": 25,
   "metadata": {},
   "outputs": [
    {
     "data": {
      "text/html": [
       "<div>\n",
       "<style scoped>\n",
       "    .dataframe tbody tr th:only-of-type {\n",
       "        vertical-align: middle;\n",
       "    }\n",
       "\n",
       "    .dataframe tbody tr th {\n",
       "        vertical-align: top;\n",
       "    }\n",
       "\n",
       "    .dataframe thead th {\n",
       "        text-align: right;\n",
       "    }\n",
       "</style>\n",
       "<table border=\"1\" class=\"dataframe\">\n",
       "  <thead>\n",
       "    <tr style=\"text-align: right;\">\n",
       "      <th></th>\n",
       "      <th>Height</th>\n",
       "      <th>Weight</th>\n",
       "      <th>BSA</th>\n",
       "      <th>Dmax_patient</th>\n",
       "      <th>Dmax_bulk</th>\n",
       "      <th>Spread_bulk</th>\n",
       "      <th>Spread_patient</th>\n",
       "      <th>SDmax_euc</th>\n",
       "      <th>SDmax_man</th>\n",
       "      <th>SDmax_che</th>\n",
       "    </tr>\n",
       "  </thead>\n",
       "  <tbody>\n",
       "    <tr>\n",
       "      <th>0</th>\n",
       "      <td>194.0</td>\n",
       "      <td>59.0</td>\n",
       "      <td>1.7831</td>\n",
       "      <td>127.659362</td>\n",
       "      <td>94.747566</td>\n",
       "      <td>971.776641</td>\n",
       "      <td>2547.138326</td>\n",
       "      <td>71.59407</td>\n",
       "      <td>107.237393</td>\n",
       "      <td>66.205219</td>\n",
       "    </tr>\n",
       "  </tbody>\n",
       "</table>\n",
       "</div>"
      ],
      "text/plain": [
       "   Height  Weight     BSA  Dmax_patient  Dmax_bulk  Spread_bulk   \n",
       "0   194.0    59.0  1.7831    127.659362  94.747566   971.776641  \\\n",
       "\n",
       "   Spread_patient  SDmax_euc   SDmax_man  SDmax_che  \n",
       "0     2547.138326   71.59407  107.237393  66.205219  "
      ]
     },
     "execution_count": 25,
     "metadata": {},
     "output_type": "execute_result"
    }
   ],
   "source": [
    "p.calcularParametrosDistancia()"
   ]
  },
  {
   "attachments": {},
   "cell_type": "markdown",
   "metadata": {},
   "source": [
    "16 20 23 24 25 28 34 36 38 42 44 46 47 48 49 50 52 53 55 56 59 61 62 63 65 66 67 69 72 73 74 75 79 80 82 83 84 85 88"
   ]
  },
  {
   "attachments": {},
   "cell_type": "markdown",
   "metadata": {},
   "source": [
    "## Funcionando"
   ]
  },
  {
   "attachments": {},
   "cell_type": "markdown",
   "metadata": {},
   "source": [
    "16  20  23  24  36  44  46  52  55  56  59  62  63  66  69  72  73  79"
   ]
  },
  {
   "attachments": {},
   "cell_type": "markdown",
   "metadata": {},
   "source": [
    "## No Funcionando"
   ]
  },
  {
   "attachments": {},
   "cell_type": "markdown",
   "metadata": {},
   "source": [
    "### Ficheros dañados"
   ]
  },
  {
   "attachments": {},
   "cell_type": "markdown",
   "metadata": {},
   "source": [
    "**25** <br>\n",
    "Damaged files\n",
    "\n",
    "CT Error: \n",
    "['DICOM_135.dcm', 'DICOM_136.dcm', 'DICOM_137.dcm', 'DICOM_138.dcm', 'DICOM_139.dcm', 'DICOM_140.dcm', 'DICOM_141.dcm', 'DICOM_142.dcm', 'DICOM_143.dcm', 'DICOM_144.dcm', 'DICOM_145.dcm', 'DICOM_146.dcm', 'DICOM_147.dcm', 'DICOM_148.dcm', 'DICOM_149.dcm', 'DICOM_150.dcm', 'DICOM_151.dcm', 'DICOM_152.dcm', 'DICOM_153.dcm', 'DICOM_154.dcm', 'DICOM_155.dcm', 'DICOM_156.dcm', 'DICOM_157.dcm', 'DICOM_158.dcm', 'DICOM_159.dcm']\n",
    "\n",
    "**48** <br>\n",
    "Damaged files\n",
    "\n",
    "CT Error: \n",
    "['DICOM_092.dcm', 'DICOM_093.dcm', 'DICOM_094.dcm', 'DICOM_095.dcm', 'DICOM_096.dcm', 'DICOM_097.dcm', 'DICOM_098.dcm', 'DICOM_099.dcm', 'DICOM_100.dcm', 'DICOM_101.dcm', 'DICOM_102.dcm', 'DICOM_137.dcm', 'DICOM_138.dcm', 'DICOM_139.dcm', 'DICOM_140.dcm', 'DICOM_141.dcm', 'DICOM_142.dcm', 'DICOM_143.dcm', 'DICOM_144.dcm', 'DICOM_145.dcm', 'DICOM_146.dcm']\n",
    "\n",
    "**61**\n",
    "\n",
    "**65**\n",
    "Damaged files\n",
    "\n",
    "CT Error: \n",
    "['DICOM_070.dcm', 'DICOM_071.dcm', 'DICOM_072.dcm', 'DICOM_073.dcm', 'DICOM_074.dcm', 'DICOM_075.dcm', 'DICOM_076.dcm', 'DICOM_077.dcm', 'DICOM_078.dcm', 'DICOM_079.dcm', 'DICOM_080.dcm', 'DICOM_081.dcm', 'DICOM_082.dcm', 'DICOM_083.dcm', 'DICOM_084.dcm', 'DICOM_085.dcm', 'DICOM_086.dcm', 'DICOM_087.dcm', 'DICOM_088.dcm', 'DICOM_089.dcm', 'DICOM_090.dcm', 'DICOM_091.dcm', 'DICOM_092.dcm', 'DICOM_093.dcm', 'DICOM_094.dcm', 'DICOM_095.dcm', 'DICOM_096.dcm', 'DICOM_097.dcm', 'DICOM_098.dcm', 'DICOM_099.dcm', 'DICOM_100.dcm', 'DICOM_101.dcm', 'DICOM_102.dcm', 'DICOM_103.dcm']\n",
    "\n",
    "**67**\n",
    "Damaged files\n",
    "\n",
    "CT Error: \n",
    "['DICOM_323.dcm', 'DICOM_324.dcm', 'DICOM_325.dcm', 'DICOM_326.dcm', 'DICOM_327.dcm', 'DICOM_328.dcm', 'DICOM_329.dcm', 'DICOM_330.dcm', 'DICOM_331.dcm', 'DICOM_332.dcm', 'DICOM_333.dcm', 'DICOM_334.dcm']"
   ]
  },
  {
   "attachments": {},
   "cell_type": "markdown",
   "metadata": {},
   "source": [
    "### No funcionan las distacias"
   ]
  },
  {
   "attachments": {},
   "cell_type": "markdown",
   "metadata": {},
   "source": [
    "Probar con otro ROI SUVmax, calcula la mascara pero las distancias son = 0"
   ]
  },
  {
   "attachments": {},
   "cell_type": "markdown",
   "metadata": {},
   "source": [
    "28 34 47 49 74 75"
   ]
  },
  {
   "attachments": {},
   "cell_type": "markdown",
   "metadata": {},
   "source": [
    "### No tiene RTSTRUCT"
   ]
  },
  {
   "attachments": {},
   "cell_type": "markdown",
   "metadata": {},
   "source": [
    "38 42 53"
   ]
  }
 ],
 "metadata": {
  "kernelspec": {
   "display_name": "Python 3",
   "language": "python",
   "name": "python3"
  },
  "language_info": {
   "codemirror_mode": {
    "name": "ipython",
    "version": 3
   },
   "file_extension": ".py",
   "mimetype": "text/x-python",
   "name": "python",
   "nbconvert_exporter": "python",
   "pygments_lexer": "ipython3",
   "version": "3.11.3"
  },
  "orig_nbformat": 4
 },
 "nbformat": 4,
 "nbformat_minor": 2
}
