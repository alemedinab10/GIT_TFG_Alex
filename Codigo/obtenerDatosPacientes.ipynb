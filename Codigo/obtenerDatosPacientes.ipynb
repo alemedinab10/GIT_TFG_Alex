{
 "cells": [
  {
   "cell_type": "code",
   "execution_count": 5,
   "metadata": {},
   "outputs": [],
   "source": [
    "from Paciente import Paciente"
   ]
  },
  {
   "cell_type": "code",
   "execution_count": 6,
   "metadata": {},
   "outputs": [],
   "source": [
    "import os\n",
    "import shutil\n",
    "import re\n",
    "import numpy as np\n",
    "import pydicom"
   ]
  },
  {
   "attachments": {},
   "cell_type": "markdown",
   "metadata": {},
   "source": [
    "16 20 23 24 25 28 34 36 38 42 44 46 47 48 49 50 52 53 55 56 59 61 62 63 65 66 67 69 72 73 74 75 79 80 82 83 84 85 88"
   ]
  },
  {
   "attachments": {},
   "cell_type": "markdown",
   "metadata": {},
   "source": [
    "Funcionando <br>\n",
    "16  20  23  24  36  44  46"
   ]
  },
  {
   "attachments": {},
   "cell_type": "markdown",
   "metadata": {},
   "source": [
    "Ficheros dañados <br> \n",
    "25 <br>\n",
    "Damaged files\n",
    "\n",
    "CT Error: \n",
    "['DICOM_135.dcm', 'DICOM_136.dcm', 'DICOM_137.dcm', 'DICOM_138.dcm', 'DICOM_139.dcm', 'DICOM_140.dcm', 'DICOM_141.dcm', 'DICOM_142.dcm', 'DICOM_143.dcm', 'DICOM_144.dcm', 'DICOM_145.dcm', 'DICOM_146.dcm', 'DICOM_147.dcm', 'DICOM_148.dcm', 'DICOM_149.dcm', 'DICOM_150.dcm', 'DICOM_151.dcm', 'DICOM_152.dcm', 'DICOM_153.dcm', 'DICOM_154.dcm', 'DICOM_155.dcm', 'DICOM_156.dcm', 'DICOM_157.dcm', 'DICOM_158.dcm', 'DICOM_159.dcm']"
   ]
  },
  {
   "attachments": {},
   "cell_type": "markdown",
   "metadata": {},
   "source": [
    "No funcionan las distacias <br>\n",
    "28 34"
   ]
  },
  {
   "attachments": {},
   "cell_type": "markdown",
   "metadata": {},
   "source": [
    "No tiene RTSTRUCT <br>\n",
    "38 42"
   ]
  },
  {
   "cell_type": "code",
   "execution_count": 9,
   "metadata": {},
   "outputs": [
    {
     "name": "stdout",
     "output_type": "stream",
     "text": [
      "No damaged files\n"
     ]
    },
    {
     "name": "stderr",
     "output_type": "stream",
     "text": [
      "Construyendo Mascaras: 100%|██████████| 348/348 [00:09<00:00, 37.39it/s]\n"
     ]
    }
   ],
   "source": [
    "bdd = os.path.join(\"G:\", \"Base_de_Datos\")\n",
    "p = Paciente(46,1,bdd)"
   ]
  },
  {
   "cell_type": "code",
   "execution_count": 10,
   "metadata": {},
   "outputs": [
    {
     "data": {
      "text/html": [
       "<div>\n",
       "<style scoped>\n",
       "    .dataframe tbody tr th:only-of-type {\n",
       "        vertical-align: middle;\n",
       "    }\n",
       "\n",
       "    .dataframe tbody tr th {\n",
       "        vertical-align: top;\n",
       "    }\n",
       "\n",
       "    .dataframe thead th {\n",
       "        text-align: right;\n",
       "    }\n",
       "</style>\n",
       "<table border=\"1\" class=\"dataframe\">\n",
       "  <thead>\n",
       "    <tr style=\"text-align: right;\">\n",
       "      <th></th>\n",
       "      <th>Height</th>\n",
       "      <th>Weight</th>\n",
       "      <th>BSA</th>\n",
       "      <th>Dmax_patient</th>\n",
       "      <th>Dmax_bulk</th>\n",
       "      <th>Spread_bulk</th>\n",
       "      <th>Spread_patient</th>\n",
       "      <th>SDmax_euc</th>\n",
       "      <th>SDmax_man</th>\n",
       "      <th>SDmax_che</th>\n",
       "    </tr>\n",
       "  </thead>\n",
       "  <tbody>\n",
       "    <tr>\n",
       "      <th>0</th>\n",
       "      <td>150.0</td>\n",
       "      <td>80.0</td>\n",
       "      <td>1.825742</td>\n",
       "      <td>14.058629</td>\n",
       "      <td>12.587601</td>\n",
       "      <td>26.158952</td>\n",
       "      <td>39.360443</td>\n",
       "      <td>7.700228</td>\n",
       "      <td>11.176678</td>\n",
       "      <td>7.506756</td>\n",
       "    </tr>\n",
       "  </tbody>\n",
       "</table>\n",
       "</div>"
      ],
      "text/plain": [
       "   Height  Weight       BSA  Dmax_patient  Dmax_bulk  Spread_bulk   \n",
       "0   150.0    80.0  1.825742     14.058629  12.587601    26.158952  \\\n",
       "\n",
       "   Spread_patient  SDmax_euc  SDmax_man  SDmax_che  \n",
       "0       39.360443   7.700228  11.176678   7.506756  "
      ]
     },
     "execution_count": 10,
     "metadata": {},
     "output_type": "execute_result"
    }
   ],
   "source": [
    "p.calcularParametrosDistancia()"
   ]
  }
 ],
 "metadata": {
  "kernelspec": {
   "display_name": "Python 3",
   "language": "python",
   "name": "python3"
  },
  "language_info": {
   "codemirror_mode": {
    "name": "ipython",
    "version": 3
   },
   "file_extension": ".py",
   "mimetype": "text/x-python",
   "name": "python",
   "nbconvert_exporter": "python",
   "pygments_lexer": "ipython3",
   "version": "3.11.3"
  },
  "orig_nbformat": 4
 },
 "nbformat": 4,
 "nbformat_minor": 2
}
