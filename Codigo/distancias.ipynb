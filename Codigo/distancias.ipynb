{
 "cells": [
  {
   "cell_type": "code",
   "execution_count": 1,
   "metadata": {},
   "outputs": [],
   "source": [
    "from Paciente import Paciente"
   ]
  },
  {
   "cell_type": "code",
   "execution_count": 2,
   "metadata": {},
   "outputs": [],
   "source": [
    "import numpy as np\n",
    "from scipy.ndimage import label, center_of_mass, sum  \n",
    "from tqdm import tqdm"
   ]
  },
  {
   "cell_type": "code",
   "execution_count": 3,
   "metadata": {},
   "outputs": [
    {
     "name": "stdout",
     "output_type": "stream",
     "text": [
      "No damaged files\n"
     ]
    },
    {
     "name": "stderr",
     "output_type": "stream",
     "text": [
      "Construyendo Mascaras: 100%|██████████| 348/348 [00:18<00:00, 19.27it/s]\n"
     ]
    }
   ],
   "source": [
    "# Se instancia la clase para el paciente numero 29\n",
    "paciente29 = Paciente(29, 3)"
   ]
  },
  {
   "cell_type": "code",
   "execution_count": 7,
   "metadata": {},
   "outputs": [
    {
     "name": "stdout",
     "output_type": "stream",
     "text": [
      "Number of lesions detected: 19\n"
     ]
    }
   ],
   "source": [
    "pat_height = paciente29.altura\n",
    "pat_weight = paciente29.peso\n",
    "spacing = paciente29.spacing\n",
    "data = paciente29.mascaraGeneral\n",
    "\n",
    "pat_BSA = np.sqrt((pat_height*pat_weight)/3600) #m^2? \n",
    "\n",
    "# Separate the different lesions and give them different labels\n",
    "# Not connected regions will be seen as different objects \n",
    "labeled_data, num_features = label(data)\n",
    "seg = np.argwhere(labeled_data)\n",
    "print('Number of lesions detected: ' + str(num_features))"
   ]
  },
  {
   "cell_type": "code",
   "execution_count": 5,
   "metadata": {},
   "outputs": [],
   "source": [
    "#%% Define functions (for weighted distances in general, distances on a given array,\n",
    "# distances between one given point and all the others)\n",
    "\n",
    "# Function for weighted distances\n",
    "def weighted_distance(p1, p2, weights, type_of_distance):\n",
    "    # First: Check if enough weight parameters are given. Follow through with \n",
    "    # the code if this is the case. If not, raise Exception and print statement. \n",
    "    try: \n",
    "        len(weights) == len(p1) == len(p2)\n",
    "    except: \n",
    "        print('Error: Dimension mismatch between data points and weight array') \n",
    "    else: \n",
    "        # For every type of distance there is a formula for a weighted distance\n",
    "        # which will be executed if the corresponding type is selected. \n",
    "        \n",
    "        q = p1 - p2 \n",
    "        \n",
    "        if type_of_distance == 'euclidian':\n",
    "            # Weighted Euclidian distance\n",
    "            return np.sqrt(((weights * q)**2).sum())\n",
    "        \n",
    "        elif type_of_distance == 'manhattan' or type_of_distance == 'cityblock':\n",
    "            # Weighted Manhattan or Cityblock distance \n",
    "            return (weights * abs(q)).sum()\n",
    "            \n",
    "        elif type_of_distance == 'chebyshev':\n",
    "            # Weighted Chebyshev distance \n",
    "            return max(weights * abs(q))\n",
    "            \n",
    "        else: \n",
    "            # If a different string than the possible distance types is given, \n",
    "            # the following statement is printed. \n",
    "            print(\"Error: The selected distance type is not available. \\\n",
    "                    Try 'euclidian', 'manhattan' or 'cityblock', or 'chebyshev'.\")"
   ]
  },
  {
   "cell_type": "code",
   "execution_count": 6,
   "metadata": {},
   "outputs": [],
   "source": [
    "# Define function which calculates weighted distances (all three types) on a \n",
    "# given array (segmentation, either whole body lesions or only centroids)\n",
    "def distances(segmentation, weights):\n",
    "    euc_dist = []\n",
    "    print (\"Calculando la distancia de chebyshev\")\n",
    "    for i in tqdm(range(len(segmentation))):\n",
    "        for j in range(len(segmentation)):\n",
    "            if i != j:\n",
    "                # Calcular la distancia euclidiana ponderada y agregarla a la lista\n",
    "                distance = weighted_distance(segmentation[i], segmentation[j], weights, 'chebyshev')\n",
    "                euc_dist.append(distance)\n",
    "\n",
    "    return euc_dist "
   ]
  },
  {
   "cell_type": "code",
   "execution_count": 10,
   "metadata": {},
   "outputs": [
    {
     "name": "stderr",
     "output_type": "stream",
     "text": [
      "  1%|          | 90513611/8809042592 [27:47<44:37:30, 54270.08it/s] \n"
     ]
    },
    {
     "ename": "KeyboardInterrupt",
     "evalue": "",
     "output_type": "error",
     "traceback": [
      "\u001b[1;31m---------------------------------------------------------------------------\u001b[0m",
      "\u001b[1;31mKeyboardInterrupt\u001b[0m                         Traceback (most recent call last)",
      "Cell \u001b[1;32mIn[10], line 48\u001b[0m\n\u001b[0;32m     45\u001b[0m     \u001b[39mreturn\u001b[39;00m euc_dist, man_dist, che_dist\n\u001b[0;32m     47\u001b[0m \u001b[39m# Aplica las funciones a tus datos\u001b[39;00m\n\u001b[1;32m---> 48\u001b[0m euc_dist_vox, man_dist_vox, che_dist_vox \u001b[39m=\u001b[39m distances(seg, spacing)\n",
      "Cell \u001b[1;32mIn[10], line 40\u001b[0m, in \u001b[0;36mdistances\u001b[1;34m(segmentation, weights)\u001b[0m\n\u001b[0;32m     38\u001b[0m \u001b[39mif\u001b[39;00m i \u001b[39m!=\u001b[39m j:\n\u001b[0;32m     39\u001b[0m     euc_dist\u001b[39m.\u001b[39mappend(weighted_distance(segmentation[i], segmentation[j], weights, \u001b[39m'\u001b[39m\u001b[39meuclidian\u001b[39m\u001b[39m'\u001b[39m))\n\u001b[1;32m---> 40\u001b[0m     man_dist\u001b[39m.\u001b[39mappend(weighted_distance(segmentation[i], segmentation[j], weights, \u001b[39m'\u001b[39;49m\u001b[39mmanhattan\u001b[39;49m\u001b[39m'\u001b[39;49m))\n\u001b[0;32m     41\u001b[0m     che_dist\u001b[39m.\u001b[39mappend(weighted_distance(segmentation[i], segmentation[j], weights, \u001b[39m'\u001b[39m\u001b[39mchebyshev\u001b[39m\u001b[39m'\u001b[39m))\n\u001b[0;32m     42\u001b[0m     \u001b[39m# Actualiza la barra de progreso después de cada iteración\u001b[39;00m\n",
      "Cell \u001b[1;32mIn[10], line 12\u001b[0m, in \u001b[0;36mweighted_distance\u001b[1;34m(p1, p2, weights, type_of_distance)\u001b[0m\n\u001b[0;32m      8\u001b[0m     \u001b[39mreturn\u001b[39;00m np\u001b[39m.\u001b[39msqrt(((weights \u001b[39m*\u001b[39m q)\u001b[39m*\u001b[39m\u001b[39m*\u001b[39m\u001b[39m2\u001b[39m)\u001b[39m.\u001b[39msum())\n\u001b[0;32m     10\u001b[0m \u001b[39melif\u001b[39;00m type_of_distance \u001b[39m==\u001b[39m \u001b[39m'\u001b[39m\u001b[39mmanhattan\u001b[39m\u001b[39m'\u001b[39m \u001b[39mor\u001b[39;00m type_of_distance \u001b[39m==\u001b[39m \u001b[39m'\u001b[39m\u001b[39mcityblock\u001b[39m\u001b[39m'\u001b[39m:\n\u001b[0;32m     11\u001b[0m     \u001b[39m# Weighted Manhattan or Cityblock distance \u001b[39;00m\n\u001b[1;32m---> 12\u001b[0m     \u001b[39mreturn\u001b[39;00m (weights \u001b[39m*\u001b[39;49m \u001b[39mabs\u001b[39;49m(q))\u001b[39m.\u001b[39;49msum()\n\u001b[0;32m     14\u001b[0m \u001b[39melif\u001b[39;00m type_of_distance \u001b[39m==\u001b[39m \u001b[39m'\u001b[39m\u001b[39mchebyshev\u001b[39m\u001b[39m'\u001b[39m:\n\u001b[0;32m     15\u001b[0m     \u001b[39m# Weighted Chebyshev distance \u001b[39;00m\n\u001b[0;32m     16\u001b[0m     \u001b[39mreturn\u001b[39;00m \u001b[39mmax\u001b[39m(weights \u001b[39m*\u001b[39m \u001b[39mabs\u001b[39m(q))\n",
      "File \u001b[1;32m~\\AppData\\Local\\Packages\\PythonSoftwareFoundation.Python.3.11_qbz5n2kfra8p0\\LocalCache\\local-packages\\Python311\\site-packages\\numpy\\core\\_methods.py:47\u001b[0m, in \u001b[0;36m_sum\u001b[1;34m(a, axis, dtype, out, keepdims, initial, where)\u001b[0m\n\u001b[0;32m     43\u001b[0m \u001b[39mdef\u001b[39;00m \u001b[39m_amin\u001b[39m(a, axis\u001b[39m=\u001b[39m\u001b[39mNone\u001b[39;00m, out\u001b[39m=\u001b[39m\u001b[39mNone\u001b[39;00m, keepdims\u001b[39m=\u001b[39m\u001b[39mFalse\u001b[39;00m,\n\u001b[0;32m     44\u001b[0m           initial\u001b[39m=\u001b[39m_NoValue, where\u001b[39m=\u001b[39m\u001b[39mTrue\u001b[39;00m):\n\u001b[0;32m     45\u001b[0m     \u001b[39mreturn\u001b[39;00m umr_minimum(a, axis, \u001b[39mNone\u001b[39;00m, out, keepdims, initial, where)\n\u001b[1;32m---> 47\u001b[0m \u001b[39mdef\u001b[39;00m \u001b[39m_sum\u001b[39m(a, axis\u001b[39m=\u001b[39m\u001b[39mNone\u001b[39;00m, dtype\u001b[39m=\u001b[39m\u001b[39mNone\u001b[39;00m, out\u001b[39m=\u001b[39m\u001b[39mNone\u001b[39;00m, keepdims\u001b[39m=\u001b[39m\u001b[39mFalse\u001b[39;00m,\n\u001b[0;32m     48\u001b[0m          initial\u001b[39m=\u001b[39m_NoValue, where\u001b[39m=\u001b[39m\u001b[39mTrue\u001b[39;00m):\n\u001b[0;32m     49\u001b[0m     \u001b[39mreturn\u001b[39;00m umr_sum(a, axis, dtype, out, keepdims, initial, where)\n\u001b[0;32m     51\u001b[0m \u001b[39mdef\u001b[39;00m \u001b[39m_prod\u001b[39m(a, axis\u001b[39m=\u001b[39m\u001b[39mNone\u001b[39;00m, dtype\u001b[39m=\u001b[39m\u001b[39mNone\u001b[39;00m, out\u001b[39m=\u001b[39m\u001b[39mNone\u001b[39;00m, keepdims\u001b[39m=\u001b[39m\u001b[39mFalse\u001b[39;00m,\n\u001b[0;32m     52\u001b[0m           initial\u001b[39m=\u001b[39m_NoValue, where\u001b[39m=\u001b[39m\u001b[39mTrue\u001b[39;00m):\n",
      "\u001b[1;31mKeyboardInterrupt\u001b[0m: "
     ]
    }
   ],
   "source": [
    "def weighted_distance(p1, p2, weights, type_of_distance):\n",
    "    # Implementa aquí la lógica para calcular la distancia ponderada\n",
    "\n",
    "    q = p1 - p2\n",
    "\n",
    "    if type_of_distance == 'euclidian':\n",
    "        # Weighted Euclidian distance\n",
    "        return np.sqrt(((weights * q)**2).sum())\n",
    "\n",
    "    elif type_of_distance == 'manhattan' or type_of_distance == 'cityblock':\n",
    "        # Weighted Manhattan or Cityblock distance \n",
    "        return (weights * abs(q)).sum()\n",
    "\n",
    "    elif type_of_distance == 'chebyshev':\n",
    "        # Weighted Chebyshev distance \n",
    "        return max(weights * abs(q))\n",
    "\n",
    "    else: \n",
    "        # Si se proporciona una cadena diferente a los tipos de distancia posibles, \n",
    "        # se imprime el siguiente mensaje de error. \n",
    "        print(\"Error: The selected distance type is not available. \\\n",
    "                Try 'euclidian', 'manhattan' or 'cityblock', or 'chebyshev'.\")\n",
    "        return None\n",
    "\n",
    "def distances(segmentation, weights):\n",
    "    # Implementa aquí el cálculo de las distancias entre pares de voxels\n",
    "    euc_dist = []\n",
    "    man_dist = []\n",
    "    che_dist = []\n",
    "\n",
    "    # Calcula el total de iteraciones necesarias para el progreso\n",
    "    total_iterations = len(segmentation) * (len(segmentation) - 1)\n",
    "\n",
    "    # Crea una barra de progreso con tqdm\n",
    "    with tqdm(total=total_iterations) as pbar:\n",
    "        for i in range(len(segmentation)):\n",
    "            for j in range(len(segmentation)):\n",
    "                if i != j:\n",
    "                    euc_dist.append(weighted_distance(segmentation[i], segmentation[j], weights, 'euclidian'))\n",
    "                    man_dist.append(weighted_distance(segmentation[i], segmentation[j], weights, 'manhattan'))\n",
    "                    che_dist.append(weighted_distance(segmentation[i], segmentation[j], weights, 'chebyshev'))\n",
    "                    # Actualiza la barra de progreso después de cada iteración\n",
    "                    pbar.update(1)\n",
    "\n",
    "    return euc_dist, man_dist, che_dist\n",
    "\n",
    "# Aplica las funciones a tus datos\n",
    "euc_dist_vox, man_dist_vox, che_dist_vox = distances(seg, spacing)\n"
   ]
  },
  {
   "cell_type": "code",
   "execution_count": 8,
   "metadata": {},
   "outputs": [
    {
     "name": "stdout",
     "output_type": "stream",
     "text": [
      "Calculando la distancia de chebyshev\n"
     ]
    },
    {
     "name": "stderr",
     "output_type": "stream",
     "text": [
      "  0%|          | 16/93857 [00:08<13:06:33,  1.99it/s]\n"
     ]
    },
    {
     "ename": "KeyboardInterrupt",
     "evalue": "",
     "output_type": "error",
     "traceback": [
      "\u001b[1;31m---------------------------------------------------------------------------\u001b[0m",
      "\u001b[1;31mKeyboardInterrupt\u001b[0m                         Traceback (most recent call last)",
      "Cell \u001b[1;32mIn[8], line 4\u001b[0m\n\u001b[0;32m      1\u001b[0m \u001b[39m#%% Apply functions to data \u001b[39;00m\n\u001b[0;32m      2\u001b[0m \u001b[39m# IF NECESSARY COMMENT OUT THE PART FOR THE DISTANCES BETWEEN VOXEL PAIRS\u001b[39;00m\n\u001b[0;32m      3\u001b[0m \u001b[39m# Distances between all pairs of voxels are calculated \u001b[39;00m\n\u001b[1;32m----> 4\u001b[0m euc_dist_vox \u001b[39m=\u001b[39m distances(seg, spacing)\n\u001b[0;32m      5\u001b[0m \u001b[39m#dist_vox = np.array([euc_dist_vox, man_dist_vox, che_dist_vox])\u001b[39;00m\n\u001b[0;32m      6\u001b[0m \u001b[39m#np.savetxt(results_dir + '/distances_vox.csv', dist_vox, delimiter = ',') \u001b[39;00m\n\u001b[0;32m      7\u001b[0m \n\u001b[1;32m   (...)\u001b[0m\n\u001b[0;32m     10\u001b[0m \u001b[39m#dist_ctr = np.array([euc_dist_ctr, man_dist_ctr, che_dist_ctr, index_i_ctr])\u001b[39;00m\n\u001b[0;32m     11\u001b[0m \u001b[39m#np.savetxt(results_dir + '/distances_ctr.csv', dist_ctr, delimiter = ',') \u001b[39;00m\n",
      "Cell \u001b[1;32mIn[6], line 10\u001b[0m, in \u001b[0;36mdistances\u001b[1;34m(segmentation, weights)\u001b[0m\n\u001b[0;32m      7\u001b[0m     \u001b[39mfor\u001b[39;00m j \u001b[39min\u001b[39;00m \u001b[39mrange\u001b[39m(\u001b[39mlen\u001b[39m(segmentation)):\n\u001b[0;32m      8\u001b[0m         \u001b[39mif\u001b[39;00m i \u001b[39m!=\u001b[39m j:\n\u001b[0;32m      9\u001b[0m             \u001b[39m# Calcular la distancia euclidiana ponderada y agregarla a la lista\u001b[39;00m\n\u001b[1;32m---> 10\u001b[0m             distance \u001b[39m=\u001b[39m weighted_distance(segmentation[i], segmentation[j], weights, \u001b[39m'\u001b[39;49m\u001b[39mchebyshev\u001b[39;49m\u001b[39m'\u001b[39;49m)\n\u001b[0;32m     11\u001b[0m             euc_dist\u001b[39m.\u001b[39mappend(distance)\n\u001b[0;32m     13\u001b[0m \u001b[39mreturn\u001b[39;00m euc_dist\n",
      "Cell \u001b[1;32mIn[5], line 28\u001b[0m, in \u001b[0;36mweighted_distance\u001b[1;34m(p1, p2, weights, type_of_distance)\u001b[0m\n\u001b[0;32m     24\u001b[0m     \u001b[39mreturn\u001b[39;00m (weights \u001b[39m*\u001b[39m \u001b[39mabs\u001b[39m(q))\u001b[39m.\u001b[39msum()\n\u001b[0;32m     26\u001b[0m \u001b[39melif\u001b[39;00m type_of_distance \u001b[39m==\u001b[39m \u001b[39m'\u001b[39m\u001b[39mchebyshev\u001b[39m\u001b[39m'\u001b[39m:\n\u001b[0;32m     27\u001b[0m     \u001b[39m# Weighted Chebyshev distance \u001b[39;00m\n\u001b[1;32m---> 28\u001b[0m     \u001b[39mreturn\u001b[39;00m \u001b[39mmax\u001b[39;49m(weights \u001b[39m*\u001b[39;49m \u001b[39mabs\u001b[39;49m(q))\n\u001b[0;32m     30\u001b[0m \u001b[39melse\u001b[39;00m: \n\u001b[0;32m     31\u001b[0m     \u001b[39m# If a different string than the possible distance types is given, \u001b[39;00m\n\u001b[0;32m     32\u001b[0m     \u001b[39m# the following statement is printed. \u001b[39;00m\n\u001b[0;32m     33\u001b[0m     \u001b[39mprint\u001b[39m(\u001b[39m\"\u001b[39m\u001b[39mError: The selected distance type is not available. \u001b[39m\u001b[39m\\\u001b[39;00m\n\u001b[0;32m     34\u001b[0m \u001b[39m            Try \u001b[39m\u001b[39m'\u001b[39m\u001b[39meuclidian\u001b[39m\u001b[39m'\u001b[39m\u001b[39m, \u001b[39m\u001b[39m'\u001b[39m\u001b[39mmanhattan\u001b[39m\u001b[39m'\u001b[39m\u001b[39m or \u001b[39m\u001b[39m'\u001b[39m\u001b[39mcityblock\u001b[39m\u001b[39m'\u001b[39m\u001b[39m, or \u001b[39m\u001b[39m'\u001b[39m\u001b[39mchebyshev\u001b[39m\u001b[39m'\u001b[39m\u001b[39m.\u001b[39m\u001b[39m\"\u001b[39m)\n",
      "\u001b[1;31mKeyboardInterrupt\u001b[0m: "
     ]
    }
   ],
   "source": [
    "#%% Apply functions to data \n",
    "# IF NECESSARY COMMENT OUT THE PART FOR THE DISTANCES BETWEEN VOXEL PAIRS\n",
    "# Distances between all pairs of voxels are calculated \n",
    "euc_dist_vox = distances(seg, spacing)\n",
    "#dist_vox = np.array([euc_dist_vox, man_dist_vox, che_dist_vox])\n",
    "#np.savetxt(results_dir + '/distances_vox.csv', dist_vox, delimiter = ',') \n",
    "\n",
    "# Distances between all pairs of centroids are calculated \n",
    "#euc_dist_ctr, man_dist_ctr, che_dist_ctr, index_i_ctr = distances(centr, spacing)\n",
    "#dist_ctr = np.array([euc_dist_ctr, man_dist_ctr, che_dist_ctr, index_i_ctr])\n",
    "#np.savetxt(results_dir + '/distances_ctr.csv', dist_ctr, delimiter = ',') "
   ]
  },
  {
   "cell_type": "code",
   "execution_count": null,
   "metadata": {},
   "outputs": [],
   "source": [
    "euc_dist_vox"
   ]
  },
  {
   "cell_type": "code",
   "execution_count": null,
   "metadata": {},
   "outputs": [],
   "source": [
    "# Function that gives back all the euclidian distances between one specific \n",
    "# lesion and all the others \n",
    "def lesion_distances(index): \n",
    "    # Give back the array of euclidian distances between one specific lesion and the others\n",
    "    d = dist_ctr[0, np.where(dist_ctr[3] == index)[0]]\n",
    "    return d"
   ]
  },
  {
   "cell_type": "code",
   "execution_count": null,
   "metadata": {},
   "outputs": [],
   "source": [
    "#%% Calculate parameters\n",
    "\n",
    "# Calculation of parameters, based on the voxel distances\n",
    "# Dmax: Max. distance between the two voxels that are the farthest away.\n",
    "Dmax = max(euc_dist_vox)\n",
    "\n",
    "# SDmax_euc_vox: Max. euclidian distance, normalized by BSA.\n",
    "SDmax_euc_vox = Dmax/pat_BSA\n",
    "\n",
    "# SDmax_man_vox: Max. Manhattan distance, normalized by BSA.\n",
    "SDmax_man_vox = max(man_dist_vox)/pat_BSA\n",
    "\n",
    "# SDmax_che_vox: Max. Chebyshev distance, normalized by BSA.\n",
    "SDmax_che_vox = max(che_dist_vox)/pat_BSA\n",
    "\n",
    "\n",
    "# Calculation of parameters, based on centroid distances \n",
    "# Dmax_patient: (Euclidian) Distance between the two lesions that are the farthest away from each other. \n",
    "Dmax_patient = max(euc_dist_ctr)\n",
    "\n",
    "# Dmax_bulk: (Euclidian) Distance between the largest lesion and the one the farthest away from it. \n",
    "# Find largest lesion first \n",
    "sizes_of_lesions = [sum(data, labeled_data, index = i)\n",
    "                    for i in range(1, num_features+1)]\n",
    "largest_size = max(sizes_of_lesions) # how many pixels does the largest lesion have?\n",
    "largest_index = np.where(sizes_of_lesions == largest_size)[0][0] # which Python Index does the largest lesion have?\n",
    "largest_label = largest_index + 1 # which Label does the largest lesion have?  \n",
    "#print('The largest lesion has label index ' + str(largest_label))\n",
    "# Calculate the parameter\n",
    "Dmax_bulk = max(lesion_distances(largest_index))\n",
    "   \n",
    "# SPREAD_bulk: Sum of the euclidian distances between the largest lesion and all the other lesions.\n",
    "Spread_bulk = np.sum(lesion_distances(largest_index))\n",
    "\n",
    "# SPREAD_patient: Over all lesions, the maximum of the sum of distances from one lesion to all the others.\n",
    "sums = [np.sum(lesion_distances(i)) for i in range(num_features)]\n",
    "Spread_patient = max(sums)\n",
    "  \n",
    "# SDmax_euc: Dmax_patient, normalized by BSA\n",
    "SDmax_euc = Dmax_patient/pat_BSA\n",
    "\n",
    "# SDmax_man: Maximum Manhattan distance between lesions, normalized by BSA. \n",
    "SDmax_man = max(man_dist_ctr)/pat_BSA\n",
    "\n",
    "# SDmax_che: Maximum Chebyshev distance between lesions, normalized by BSA. \n",
    "SDmax_che = max(che_dist_ctr)/pat_BSA\n",
    "\n",
    "#%% Add important features to Results file (output)\n",
    "pat_features = pat_features.assign(Height = [pat_height],\n",
    "                                   Weight = [pat_weight], \n",
    "                                   BSA = [pat_BSA],\n",
    "                                   Dmax = [Dmax], \n",
    "                                   SDmax_euc_vox = [SDmax_euc_vox],\n",
    "                                   SDmax_man_vox = [SDmax_man_vox], \n",
    "                                   SDmax_che_vox = [SDmax_che_vox], \n",
    "                                   Dmax_patient = [Dmax_patient], \n",
    "                                   Dmax_bulk = [Dmax_bulk], \n",
    "                                   Spread_bulk = [Spread_bulk],\n",
    "                                   Spread_patient = [Spread_patient],\n",
    "                                   SDmax_euc =[SDmax_euc],\n",
    "                                   SDmax_man = [SDmax_man],\n",
    "                                   SDmax_che = [SDmax_che])\n",
    "\n",
    "pat_features.to_excel(results_dir + '/Results_Patient.xlsx')\n",
    "\n",
    "t1 = time.time()\n",
    "total = t1-t0\n",
    "print('Patient ' + pat + ' successfully added.')\n",
    "print('Total time calculating distances for patient ' + pat + ': ' + str(total) + 's')"
   ]
  }
 ],
 "metadata": {
  "kernelspec": {
   "display_name": "Python 3",
   "language": "python",
   "name": "python3"
  },
  "language_info": {
   "codemirror_mode": {
    "name": "ipython",
    "version": 3
   },
   "file_extension": ".py",
   "mimetype": "text/x-python",
   "name": "python",
   "nbconvert_exporter": "python",
   "pygments_lexer": "ipython3",
   "version": "3.11.3"
  },
  "orig_nbformat": 4
 },
 "nbformat": 4,
 "nbformat_minor": 2
}
