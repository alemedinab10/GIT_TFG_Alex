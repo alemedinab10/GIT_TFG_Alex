{
 "cells": [
  {
   "cell_type": "code",
   "execution_count": 1,
   "metadata": {},
   "outputs": [],
   "source": [
    "from Paciente import Paciente"
   ]
  },
  {
   "cell_type": "code",
   "execution_count": 2,
   "metadata": {},
   "outputs": [
    {
     "ename": "FileNotFoundError",
     "evalue": "[WinError 3] El sistema no puede encontrar la ruta especificada: 'D\\\\Codigo\\\\Git_TFG_Alex\\\\PacienteEjemplo\\\\29\\\\CT\\\\\\\\'",
     "output_type": "error",
     "traceback": [
      "\u001b[1;31m---------------------------------------------------------------------------\u001b[0m",
      "\u001b[1;31mFileNotFoundError\u001b[0m                         Traceback (most recent call last)",
      "Cell \u001b[1;32mIn[2], line 2\u001b[0m\n\u001b[0;32m      1\u001b[0m \u001b[39m# Se instancia la clase para el paciente numero 29\u001b[39;00m\n\u001b[1;32m----> 2\u001b[0m paciente29 \u001b[39m=\u001b[39m Paciente(\u001b[39m29\u001b[39;49m, \u001b[39m\"\u001b[39;49m\u001b[39m3\u001b[39;49m\u001b[39m\"\u001b[39;49m)\n",
      "File \u001b[1;32md:\\Codigo\\Git_TFG_Alex\\Codigo\\Paciente.py:23\u001b[0m, in \u001b[0;36mPaciente.__init__\u001b[1;34m(self, paciente, ROI_con_mayor_suvmax)\u001b[0m\n\u001b[0;32m     21\u001b[0m \u001b[39mself\u001b[39m\u001b[39m.\u001b[39mpaciente \u001b[39m=\u001b[39m paciente\n\u001b[0;32m     22\u001b[0m \u001b[39mself\u001b[39m\u001b[39m.\u001b[39mdireccionBaseDatos \u001b[39m=\u001b[39m os\u001b[39m.\u001b[39mpath\u001b[39m.\u001b[39mjoin(\u001b[39m\"\u001b[39m\u001b[39mD\u001b[39m\u001b[39m\"\u001b[39m, \u001b[39m\"\u001b[39m\u001b[39mCodigo\u001b[39m\u001b[39m\"\u001b[39m, \u001b[39m\"\u001b[39m\u001b[39mGit_TFG_Alex\u001b[39m\u001b[39m\"\u001b[39m, \u001b[39m\"\u001b[39m\u001b[39mPacienteEjemplo\u001b[39m\u001b[39m\"\u001b[39m)\n\u001b[1;32m---> 23\u001b[0m \u001b[39mself\u001b[39m\u001b[39m.\u001b[39mfiles, \u001b[39mself\u001b[39m\u001b[39m.\u001b[39mdamagedFiles, \u001b[39mself\u001b[39m\u001b[39m.\u001b[39mRTSTRUCT \u001b[39m=\u001b[39m \u001b[39mself\u001b[39;49m\u001b[39m.\u001b[39;49mimportarDatos()\n\u001b[0;32m     24\u001b[0m \u001b[39mself\u001b[39m\u001b[39m.\u001b[39mrois \u001b[39m=\u001b[39m \u001b[39mself\u001b[39m\u001b[39m.\u001b[39mobtener_ROI_RTSTRUCT()\n\u001b[0;32m     25\u001b[0m \u001b[39mself\u001b[39m\u001b[39m.\u001b[39mnombres_ROI \u001b[39m=\u001b[39m \u001b[39mself\u001b[39m\u001b[39m.\u001b[39mobtenerNombresROI()\n",
      "File \u001b[1;32md:\\Codigo\\Git_TFG_Alex\\Codigo\\Paciente.py:40\u001b[0m, in \u001b[0;36mPaciente.importarDatos\u001b[1;34m(self)\u001b[0m\n\u001b[0;32m     38\u001b[0m boolDamagedFiles \u001b[39m=\u001b[39m \u001b[39mTrue\u001b[39;00m\n\u001b[0;32m     39\u001b[0m \u001b[39m# Leer imágenes CT y PET\u001b[39;00m\n\u001b[1;32m---> 40\u001b[0m \u001b[39mfor\u001b[39;00m f \u001b[39min\u001b[39;00m os\u001b[39m.\u001b[39;49mlistdir(dir_CT):\n\u001b[0;32m     41\u001b[0m     \u001b[39mtry\u001b[39;00m:\n\u001b[0;32m     42\u001b[0m         ds \u001b[39m=\u001b[39m pydicom\u001b[39m.\u001b[39mdcmread(os\u001b[39m.\u001b[39mpath\u001b[39m.\u001b[39mjoin(dir_CT, f))\n",
      "\u001b[1;31mFileNotFoundError\u001b[0m: [WinError 3] El sistema no puede encontrar la ruta especificada: 'D\\\\Codigo\\\\Git_TFG_Alex\\\\PacienteEjemplo\\\\29\\\\CT\\\\\\\\'"
     ]
    }
   ],
   "source": [
    "# Se instancia la clase para el paciente numero 29\n",
    "paciente29 = Paciente(29, 3)"
   ]
  },
  {
   "cell_type": "code",
   "execution_count": null,
   "metadata": {},
   "outputs": [],
   "source": [
    "# Se guarda la imagen en nrrd\n",
    "paciente29.guardarMascaraNRRD()"
   ]
  }
 ],
 "metadata": {
  "kernelspec": {
   "display_name": "Python 3",
   "language": "python",
   "name": "python3"
  },
  "language_info": {
   "codemirror_mode": {
    "name": "ipython",
    "version": 3
   },
   "file_extension": ".py",
   "mimetype": "text/x-python",
   "name": "python",
   "nbconvert_exporter": "python",
   "pygments_lexer": "ipython3",
   "version": "3.11.3"
  },
  "orig_nbformat": 4
 },
 "nbformat": 4,
 "nbformat_minor": 2
}
