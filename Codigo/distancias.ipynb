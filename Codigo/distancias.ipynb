{
 "cells": [
  {
   "cell_type": "code",
   "execution_count": 1,
   "metadata": {},
   "outputs": [],
   "source": [
    "from Paciente import Paciente"
   ]
  },
  {
   "cell_type": "code",
   "execution_count": 2,
   "metadata": {},
   "outputs": [],
   "source": [
    "import numpy as np\n",
    "from scipy.ndimage import label, center_of_mass, sum  \n",
    "from tqdm import tqdm"
   ]
  },
  {
   "cell_type": "code",
   "execution_count": 3,
   "metadata": {},
   "outputs": [
    {
     "name": "stdout",
     "output_type": "stream",
     "text": [
      "No damaged files\n"
     ]
    },
    {
     "name": "stderr",
     "output_type": "stream",
     "text": [
      "Construyendo Mascaras: 100%|██████████| 348/348 [00:18<00:00, 19.27it/s]\n"
     ]
    }
   ],
   "source": [
    "# Se instancia la clase para el paciente numero 29\n",
    "paciente29 = Paciente(29, 3)"
   ]
  },
  {
   "cell_type": "code",
   "execution_count": 7,
   "metadata": {},
   "outputs": [
    {
     "name": "stdout",
     "output_type": "stream",
     "text": [
      "Number of lesions detected: 19\n"
     ]
    }
   ],
   "source": [
    "pat_height = paciente29.altura\n",
    "pat_weight = paciente29.peso\n",
    "spacing = paciente29.spacing\n",
    "data = paciente29.mascaraGeneral\n",
    "\n",
    "pat_BSA = np.sqrt((pat_height*pat_weight)/3600) #m^2? \n",
    "\n",
    "# Separate the different lesions and give them different labels\n",
    "# Not connected regions will be seen as different objects \n",
    "labeled_data, num_features = label(data)\n",
    "seg = np.argwhere(labeled_data)\n",
    "print('Number of lesions detected: ' + str(num_features))"
   ]
  },
  {
   "cell_type": "code",
   "execution_count": 1,
   "metadata": {},
   "outputs": [],
   "source": [
    "def weighted_distance(p1, p2, weights, type_of_distance):\n",
    "    # Implementa aquí la lógica para calcular la distancia ponderada\n",
    "\n",
    "    q = p1 - p2\n",
    "\n",
    "    if type_of_distance == 'euclidian':\n",
    "        # Weighted Euclidian distance\n",
    "        return np.sqrt(((weights * q)**2).sum())\n",
    "\n",
    "    elif type_of_distance == 'manhattan' or type_of_distance == 'cityblock':\n",
    "        # Weighted Manhattan or Cityblock distance \n",
    "        return (weights * abs(q)).sum()\n",
    "\n",
    "    elif type_of_distance == 'chebyshev':\n",
    "        # Weighted Chebyshev distance \n",
    "        return max(weights * abs(q))\n",
    "\n",
    "    else: \n",
    "        # Si se proporciona una cadena diferente a los tipos de distancia posibles, \n",
    "        # se imprime el siguiente mensaje de error. \n",
    "        print(\"Error: The selected distance type is not available. \\\n",
    "                Try 'euclidian', 'manhattan' or 'cityblock', or 'chebyshev'.\")\n",
    "        return None\n",
    "\n",
    "def distances(segmentation, weights):\n",
    "    # Implementa aquí el cálculo de las distancias entre pares de voxels\n",
    "    euc_dist = []\n",
    "    man_dist = []\n",
    "    che_dist = []\n",
    "\n",
    "    # Calcula el total de iteraciones necesarias para el progreso\n",
    "    total_iterations = len(segmentation) * (len(segmentation) - 1)\n",
    "\n",
    "    # Crea una barra de progreso con tqdm\n",
    "    with tqdm(total=total_iterations) as pbar:\n",
    "        for i in range(len(segmentation)):\n",
    "            for j in range(len(segmentation)):\n",
    "                if i != j:\n",
    "                    euc_dist.append(weighted_distance(segmentation[i], segmentation[j], weights, 'euclidian'))\n",
    "                    man_dist.append(weighted_distance(segmentation[i], segmentation[j], weights, 'manhattan'))\n",
    "                    che_dist.append(weighted_distance(segmentation[i], segmentation[j], weights, 'chebyshev'))\n",
    "                    # Actualiza la barra de progreso después de cada iteración\n",
    "                    pbar.update(1)\n",
    "\n",
    "    return euc_dist, man_dist, che_dist\n"
   ]
  },
  {
   "cell_type": "code",
   "execution_count": null,
   "metadata": {},
   "outputs": [],
   "source": [
    "# Aplica las funciones a tus datos\n",
    "euc_dist_vox, man_dist_vox, che_dist_vox = distances(seg, spacing)"
   ]
  },
  {
   "cell_type": "code",
   "execution_count": null,
   "metadata": {},
   "outputs": [],
   "source": [
    "# Function that gives back all the euclidian distances between one specific \n",
    "# lesion and all the others \n",
    "def lesion_distances(index): \n",
    "    # Give back the array of euclidian distances between one specific lesion and the others\n",
    "    d = dist_ctr[0, np.where(dist_ctr[3] == index)[0]]\n",
    "    return d"
   ]
  },
  {
   "cell_type": "code",
   "execution_count": null,
   "metadata": {},
   "outputs": [],
   "source": [
    "#%% Calculate parameters\n",
    "\n",
    "# Calculation of parameters, based on the voxel distances\n",
    "# Dmax: Max. distance between the two voxels that are the farthest away.\n",
    "Dmax = max(euc_dist_vox)\n",
    "\n",
    "# SDmax_euc_vox: Max. euclidian distance, normalized by BSA.\n",
    "SDmax_euc_vox = Dmax/pat_BSA\n",
    "\n",
    "# SDmax_man_vox: Max. Manhattan distance, normalized by BSA.\n",
    "SDmax_man_vox = max(man_dist_vox)/pat_BSA\n",
    "\n",
    "# SDmax_che_vox: Max. Chebyshev distance, normalized by BSA.\n",
    "SDmax_che_vox = max(che_dist_vox)/pat_BSA\n",
    "\n",
    "\n",
    "# Calculation of parameters, based on centroid distances \n",
    "# Dmax_patient: (Euclidian) Distance between the two lesions that are the farthest away from each other. \n",
    "Dmax_patient = max(euc_dist_ctr)\n",
    "\n",
    "# Dmax_bulk: (Euclidian) Distance between the largest lesion and the one the farthest away from it. \n",
    "# Find largest lesion first \n",
    "sizes_of_lesions = [sum(data, labeled_data, index = i)\n",
    "                    for i in range(1, num_features+1)]\n",
    "largest_size = max(sizes_of_lesions) # how many pixels does the largest lesion have?\n",
    "largest_index = np.where(sizes_of_lesions == largest_size)[0][0] # which Python Index does the largest lesion have?\n",
    "largest_label = largest_index + 1 # which Label does the largest lesion have?  \n",
    "#print('The largest lesion has label index ' + str(largest_label))\n",
    "# Calculate the parameter\n",
    "Dmax_bulk = max(lesion_distances(largest_index))\n",
    "   \n",
    "# SPREAD_bulk: Sum of the euclidian distances between the largest lesion and all the other lesions.\n",
    "Spread_bulk = np.sum(lesion_distances(largest_index))\n",
    "\n",
    "# SPREAD_patient: Over all lesions, the maximum of the sum of distances from one lesion to all the others.\n",
    "sums = [np.sum(lesion_distances(i)) for i in range(num_features)]\n",
    "Spread_patient = max(sums)\n",
    "  \n",
    "# SDmax_euc: Dmax_patient, normalized by BSA\n",
    "SDmax_euc = Dmax_patient/pat_BSA\n",
    "\n",
    "# SDmax_man: Maximum Manhattan distance between lesions, normalized by BSA. \n",
    "SDmax_man = max(man_dist_ctr)/pat_BSA\n",
    "\n",
    "# SDmax_che: Maximum Chebyshev distance between lesions, normalized by BSA. \n",
    "SDmax_che = max(che_dist_ctr)/pat_BSA\n",
    "\n",
    "#%% Add important features to Results file (output)\n",
    "pat_features = pat_features.assign(Height = [pat_height],\n",
    "                                   Weight = [pat_weight], \n",
    "                                   BSA = [pat_BSA],\n",
    "                                   Dmax = [Dmax], \n",
    "                                   SDmax_euc_vox = [SDmax_euc_vox],\n",
    "                                   SDmax_man_vox = [SDmax_man_vox], \n",
    "                                   SDmax_che_vox = [SDmax_che_vox], \n",
    "                                   Dmax_patient = [Dmax_patient], \n",
    "                                   Dmax_bulk = [Dmax_bulk], \n",
    "                                   Spread_bulk = [Spread_bulk],\n",
    "                                   Spread_patient = [Spread_patient],\n",
    "                                   SDmax_euc =[SDmax_euc],\n",
    "                                   SDmax_man = [SDmax_man],\n",
    "                                   SDmax_che = [SDmax_che])\n",
    "\n",
    "pat_features.to_excel(results_dir + '/Results_Patient.xlsx')\n",
    "\n",
    "t1 = time.time()\n",
    "total = t1-t0\n",
    "print('Patient ' + pat + ' successfully added.')\n",
    "print('Total time calculating distances for patient ' + pat + ': ' + str(total) + 's')"
   ]
  }
 ],
 "metadata": {
  "kernelspec": {
   "display_name": "Python 3",
   "language": "python",
   "name": "python3"
  },
  "language_info": {
   "codemirror_mode": {
    "name": "ipython",
    "version": 3
   },
   "file_extension": ".py",
   "mimetype": "text/x-python",
   "name": "python",
   "nbconvert_exporter": "python",
   "pygments_lexer": "ipython3",
   "version": "3.11.3"
  },
  "orig_nbformat": 4
 },
 "nbformat": 4,
 "nbformat_minor": 2
}
