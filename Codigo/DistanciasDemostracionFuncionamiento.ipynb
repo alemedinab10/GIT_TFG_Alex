{
 "cells": [
  {
   "cell_type": "code",
   "execution_count": 1,
   "metadata": {},
   "outputs": [],
   "source": [
    "from Paciente import Paciente"
   ]
  },
  {
   "cell_type": "code",
   "execution_count": 2,
   "metadata": {},
   "outputs": [],
   "source": [
    "import numpy as np\n",
    "from scipy.ndimage import label, center_of_mass, sum  \n",
    "import pandas as pd"
   ]
  },
  {
   "cell_type": "code",
   "execution_count": 3,
   "metadata": {},
   "outputs": [
    {
     "name": "stdout",
     "output_type": "stream",
     "text": [
      "No damaged files\n"
     ]
    },
    {
     "name": "stderr",
     "output_type": "stream",
     "text": [
      "Construyendo Mascaras:   9%|▉         | 32/348 [00:02<00:09, 33.11it/s]"
     ]
    },
    {
     "ename": "KeyboardInterrupt",
     "evalue": "",
     "output_type": "error",
     "traceback": [
      "\u001b[1;31m---------------------------------------------------------------------------\u001b[0m",
      "\u001b[1;31mKeyboardInterrupt\u001b[0m                         Traceback (most recent call last)",
      "Cell \u001b[1;32mIn[3], line 2\u001b[0m\n\u001b[0;32m      1\u001b[0m \u001b[39m# Se instancia la clase para el paciente numero 29\u001b[39;00m\n\u001b[1;32m----> 2\u001b[0m paciente29 \u001b[39m=\u001b[39m Paciente(\u001b[39m29\u001b[39;49m, \u001b[39m3\u001b[39;49m)\n",
      "File \u001b[1;32md:\\Codigo\\Git_TFG_Alex\\Codigo\\Paciente.py:34\u001b[0m, in \u001b[0;36mPaciente.__init__\u001b[1;34m(self, paciente, ROI_con_mayor_suvmax, dirBaseDatos)\u001b[0m\n\u001b[0;32m     32\u001b[0m \u001b[39mself\u001b[39m\u001b[39m.\u001b[39mROI_con_mayor_suvmax \u001b[39m=\u001b[39m ROI_con_mayor_suvmax\n\u001b[0;32m     33\u001b[0m \u001b[39mself\u001b[39m\u001b[39m.\u001b[39mdicom_roi_map \u001b[39m=\u001b[39m \u001b[39mself\u001b[39m\u001b[39m.\u001b[39mobtener_mapa_dicom_ROI()\n\u001b[1;32m---> 34\u001b[0m \u001b[39mself\u001b[39m\u001b[39m.\u001b[39mmascaraGeneral \u001b[39m=\u001b[39m \u001b[39mself\u001b[39;49m\u001b[39m.\u001b[39;49mobtenerMascarasPaciente()\n\u001b[0;32m     35\u001b[0m \u001b[39mself\u001b[39m\u001b[39m.\u001b[39mlabeled_data, \u001b[39mself\u001b[39m\u001b[39m.\u001b[39mnum_features \u001b[39m=\u001b[39m label(\u001b[39mself\u001b[39m\u001b[39m.\u001b[39mmascaraGeneral)\n\u001b[0;32m     36\u001b[0m \u001b[39mself\u001b[39m\u001b[39m.\u001b[39meuc_dist_ctr, \u001b[39mself\u001b[39m\u001b[39m.\u001b[39mman_dist_ctr, \u001b[39mself\u001b[39m\u001b[39m.\u001b[39mche_dist_ctr, \u001b[39mself\u001b[39m\u001b[39m.\u001b[39mindex_i_ctr \u001b[39m=\u001b[39m \u001b[39mself\u001b[39m\u001b[39m.\u001b[39mdistances(\u001b[39mself\u001b[39m\u001b[39m.\u001b[39mcalcularCentroides(), \u001b[39mself\u001b[39m\u001b[39m.\u001b[39mspacing)\n",
      "File \u001b[1;32md:\\Codigo\\Git_TFG_Alex\\Codigo\\Paciente.py:284\u001b[0m, in \u001b[0;36mPaciente.obtenerMascarasPaciente\u001b[1;34m(self)\u001b[0m\n\u001b[0;32m    282\u001b[0m     mascaras\u001b[39m.\u001b[39mappend(\u001b[39mself\u001b[39m\u001b[39m.\u001b[39m_obtenerMascaraOptimizadoParaConstructor(p))\n\u001b[0;32m    283\u001b[0m     progress_bar\u001b[39m.\u001b[39mupdate(\u001b[39m1\u001b[39m)\n\u001b[1;32m--> 284\u001b[0m     time\u001b[39m.\u001b[39msleep(\u001b[39m0.001\u001b[39m)  \u001b[39m# Simulación de un tiempo de procesamiento\u001b[39;00m\n\u001b[0;32m    286\u001b[0m progress_bar\u001b[39m.\u001b[39mclose()\n\u001b[0;32m    288\u001b[0m \u001b[39mfor\u001b[39;00m i \u001b[39min\u001b[39;00m \u001b[39mrange\u001b[39m (\u001b[39mlen\u001b[39m(mascaras)):\n",
      "\u001b[1;31mKeyboardInterrupt\u001b[0m: "
     ]
    },
    {
     "name": "stderr",
     "output_type": "stream",
     "text": [
      "Construyendo Mascaras:  10%|█         | 35/348 [00:20<00:09, 33.11it/s]"
     ]
    }
   ],
   "source": [
    "# Se instancia la clase para el paciente numero 29\n",
    "paciente29 = Paciente(29, 3)"
   ]
  },
  {
   "cell_type": "code",
   "execution_count": null,
   "metadata": {},
   "outputs": [],
   "source": [
    "pat_height = paciente29.altura\n",
    "pat_weight = paciente29.peso\n",
    "pat_BSA = np.sqrt((pat_height*pat_weight)/3600) #m^2?"
   ]
  },
  {
   "cell_type": "code",
   "execution_count": null,
   "metadata": {},
   "outputs": [],
   "source": [
    "spacing = paciente29.spacing\n",
    "data = np.array(paciente29.mascaraGeneral)\n",
    "\n",
    "# Separate the different lesions and give them different labels\n",
    "# Not connected regions will be seen as different objects \n",
    "labeled_data, num_features = label(data)\n",
    "print('Number of lesions detected: ' + str(num_features))\n",
    "\n",
    "seg = np.argwhere(labeled_data)\n",
    "centr = np.asarray(center_of_mass(data, labels = labeled_data,\n",
    "                                    index = list(range(1, num_features+1))))"
   ]
  },
  {
   "cell_type": "code",
   "execution_count": null,
   "metadata": {},
   "outputs": [],
   "source": [
    "def weighted_distance(p1, p2, weights, type_of_distance):\n",
    "    try: \n",
    "        len(weights) == len(p1) == len(p2)\n",
    "    except: \n",
    "        print('Error: Dimension mismatch between data points and weight array') \n",
    "    else: \n",
    "        # For every type of distance there is a formula for a weighted distance\n",
    "        # which will be executed if the corresponding type is selected. \n",
    "        \n",
    "        q = p1 - p2 \n",
    "        \n",
    "        if type_of_distance == 'euclidian':\n",
    "            # Weighted Euclidian distance\n",
    "            return np.sqrt(((weights * q)**2).sum())\n",
    "        \n",
    "        elif type_of_distance == 'manhattan' or type_of_distance == 'cityblock':\n",
    "            # Weighted Manhattan or Cityblock distance \n",
    "            return (weights * abs(q)).sum()\n",
    "            \n",
    "        elif type_of_distance == 'chebyshev':\n",
    "            # Weighted Chebyshev distance \n",
    "            return max(weights * abs(q))\n",
    "            \n",
    "        else: \n",
    "            # If a different string than the possible distance types is given, \n",
    "            # the following statement is printed. \n",
    "            print(\"Error: The selected distance type is not available. \\\n",
    "                    Try 'euclidian', 'manhattan' or 'cityblock', or 'chebyshev'.\")\n",
    "\n",
    "\n",
    "def distances(segmentation, weights):\n",
    "    euc_dist = [weighted_distance(segmentation[i], segmentation[j], weights, 'euclidian')\n",
    "                for i in range(len(segmentation)) for j in range(len(segmentation)) if i != j]\n",
    "    man_dist = [weighted_distance(segmentation[i], segmentation[j], weights, 'manhattan')\n",
    "                for i in range(len(segmentation)) for j in range(len(segmentation)) if i != j]\n",
    "    che_dist = [weighted_distance(segmentation[i], segmentation[j], weights, 'chebyshev')\n",
    "                for i in range(len(segmentation)) for j in range(len(segmentation)) if i != j]\n",
    "    index_i = [i for i in range(len(segmentation)) for j in range(len(segmentation)) if i != j]\n",
    "\n",
    "    return euc_dist, man_dist, che_dist, index_i\n"
   ]
  },
  {
   "cell_type": "code",
   "execution_count": null,
   "metadata": {},
   "outputs": [],
   "source": [
    "# Distances between all pairs of centroids are calculated \n",
    "euc_dist_ctr, man_dist_ctr, che_dist_ctr, index_i_ctr = distances(centr, spacing)\n",
    "dist_ctr = np.array([euc_dist_ctr, man_dist_ctr, che_dist_ctr, index_i_ctr])"
   ]
  },
  {
   "cell_type": "code",
   "execution_count": null,
   "metadata": {},
   "outputs": [],
   "source": [
    "# Function that gives back all the euclidian distances between one specific \n",
    "# lesion and all the others \n",
    "def lesion_distances(index): \n",
    "    # Give back the array of euclidian distances between one specific lesion and the others\n",
    "    d = dist_ctr[0, np.where(dist_ctr[3] == index)[0]]\n",
    "    return d"
   ]
  },
  {
   "cell_type": "code",
   "execution_count": null,
   "metadata": {},
   "outputs": [],
   "source": [
    "#%% Calculate parameters\n",
    "\n",
    "# Calculation of parameters, based on centroid distances \n",
    "# Dmax_patient: (Euclidian) Distance between the two lesions that are the farthest away from each other. \n",
    "Dmax_patient = max(euc_dist_ctr)\n",
    "\n",
    "# Dmax_bulk: (Euclidian) Distance between the largest lesion and the one the farthest away from it. \n",
    "# Find largest lesion first \n",
    "sizes_of_lesions = [sum(data, labeled_data, index = i)\n",
    "                    for i in range(1, num_features+1)]\n",
    "largest_size = max(sizes_of_lesions) # how many pixels does the largest lesion have?\n",
    "largest_index = np.where(sizes_of_lesions == largest_size)[0][0] # which Python Index does the largest lesion have?\n",
    "largest_label = largest_index + 1 # which Label does the largest lesion have?  \n",
    "#print('The largest lesion has label index ' + str(largest_label))\n",
    "# Calculate the parameter\n",
    "Dmax_bulk = max(lesion_distances(largest_index))\n",
    "\n",
    "# SPREAD_bulk: Sum of the euclidian distances between the largest lesion and all the other lesions.\n",
    "Spread_bulk = np.sum(lesion_distances(largest_index))\n",
    "\n",
    "# SPREAD_patient: Over all lesions, the maximum of the sum of distances from one lesion to all the others.\n",
    "sums = [np.sum(lesion_distances(i)) for i in range(num_features)]\n",
    "Spread_patient = max(sums)\n",
    "\n",
    "# SDmax_euc: Dmax_patient, normalized by BSA\n",
    "SDmax_euc = Dmax_patient/pat_BSA\n",
    "\n",
    "# SDmax_man: Maximum Manhattan distance between lesions, normalized by BSA. \n",
    "SDmax_man = max(man_dist_ctr)/pat_BSA\n",
    "\n",
    "# SDmax_che: Maximum Chebyshev distance between lesions, normalized by BSA. \n",
    "SDmax_che = max(che_dist_ctr)/pat_BSA\n",
    "\n",
    "#%% Add important features to Results file (output)\n",
    "results_dict = {\n",
    "    'Height': [pat_height],\n",
    "    'Weight': [pat_weight],\n",
    "    'BSA': [pat_BSA],\n",
    "    'Dmax_patient': [Dmax_patient],\n",
    "    'Dmax_bulk': [Dmax_bulk],\n",
    "    'Spread_bulk': [Spread_bulk],\n",
    "    'Spread_patient': [Spread_patient],\n",
    "    'SDmax_euc': [SDmax_euc],\n",
    "    'SDmax_man': [SDmax_man],\n",
    "    'SDmax_che': [SDmax_che]\n",
    "}\n",
    "\n",
    "# Convertir el diccionario en un DataFrame\n",
    "results_df = pd.DataFrame(results_dict)\n",
    "\n",
    "# Distancias en milimetros\n",
    "results_df"
   ]
  }
 ],
 "metadata": {
  "kernelspec": {
   "display_name": "Python 3",
   "language": "python",
   "name": "python3"
  },
  "language_info": {
   "codemirror_mode": {
    "name": "ipython",
    "version": 3
   },
   "file_extension": ".py",
   "mimetype": "text/x-python",
   "name": "python",
   "nbconvert_exporter": "python",
   "pygments_lexer": "ipython3",
   "version": "3.11.3"
  },
  "orig_nbformat": 4
 },
 "nbformat": 4,
 "nbformat_minor": 2
}
