{
 "cells": [
  {
   "cell_type": "code",
   "execution_count": 1,
   "metadata": {},
   "outputs": [],
   "source": [
    "from Paciente import Paciente"
   ]
  },
  {
   "cell_type": "code",
   "execution_count": 2,
   "metadata": {},
   "outputs": [],
   "source": [
    "import numpy as np\n",
    "from scipy.ndimage import label, center_of_mass, sum  \n",
    "import pandas as pd"
   ]
  },
  {
   "cell_type": "code",
   "execution_count": 3,
   "metadata": {},
   "outputs": [
    {
     "name": "stdout",
     "output_type": "stream",
     "text": [
      "No damaged files\n"
     ]
    },
    {
     "name": "stderr",
     "output_type": "stream",
     "text": [
      "Construyendo Mascaras: 100%|██████████| 348/348 [00:25<00:00, 13.74it/s]\n"
     ]
    }
   ],
   "source": [
    "# Se instancia la clase para el paciente numero 29\n",
    "paciente29 = Paciente(29, 3)"
   ]
  },
  {
   "cell_type": "code",
   "execution_count": 5,
   "metadata": {},
   "outputs": [],
   "source": [
    "pat_height = paciente29.altura\n",
    "pat_weight = paciente29.peso\n",
    "pat_BSA = np.sqrt((pat_height*pat_weight)/3600) #m^2?"
   ]
  },
  {
   "cell_type": "code",
   "execution_count": 6,
   "metadata": {},
   "outputs": [
    {
     "name": "stdout",
     "output_type": "stream",
     "text": [
      "Number of lesions detected: 19\n"
     ]
    }
   ],
   "source": [
    "spacing = paciente29.spacing\n",
    "data = np.array(paciente29.mascaraGeneral)\n",
    "\n",
    "# Separate the different lesions and give them different labels\n",
    "# Not connected regions will be seen as different objects \n",
    "labeled_data, num_features = label(data)\n",
    "print('Number of lesions detected: ' + str(num_features))\n",
    "\n",
    "seg = np.argwhere(labeled_data)\n",
    "centr = np.asarray(center_of_mass(data, labels = labeled_data,\n",
    "                                    index = list(range(1, num_features+1))))"
   ]
  },
  {
   "cell_type": "code",
   "execution_count": 7,
   "metadata": {},
   "outputs": [],
   "source": [
    "def weighted_distance(p1, p2, weights, type_of_distance):\n",
    "    try: \n",
    "        len(weights) == len(p1) == len(p2)\n",
    "    except: \n",
    "        print('Error: Dimension mismatch between data points and weight array') \n",
    "    else: \n",
    "        # For every type of distance there is a formula for a weighted distance\n",
    "        # which will be executed if the corresponding type is selected. \n",
    "        \n",
    "        q = p1 - p2 \n",
    "        \n",
    "        if type_of_distance == 'euclidian':\n",
    "            # Weighted Euclidian distance\n",
    "            return np.sqrt(((weights * q)**2).sum())\n",
    "        \n",
    "        elif type_of_distance == 'manhattan' or type_of_distance == 'cityblock':\n",
    "            # Weighted Manhattan or Cityblock distance \n",
    "            return (weights * abs(q)).sum()\n",
    "            \n",
    "        elif type_of_distance == 'chebyshev':\n",
    "            # Weighted Chebyshev distance \n",
    "            return max(weights * abs(q))\n",
    "            \n",
    "        else: \n",
    "            # If a different string than the possible distance types is given, \n",
    "            # the following statement is printed. \n",
    "            print(\"Error: The selected distance type is not available. \\\n",
    "                    Try 'euclidian', 'manhattan' or 'cityblock', or 'chebyshev'.\")\n",
    "\n",
    "\n",
    "def distances(segmentation, weights):\n",
    "    euc_dist = [weighted_distance(segmentation[i], segmentation[j], weights, 'euclidian')\n",
    "                for i in range(len(segmentation)) for j in range(len(segmentation)) if i != j]\n",
    "    man_dist = [weighted_distance(segmentation[i], segmentation[j], weights, 'manhattan')\n",
    "                for i in range(len(segmentation)) for j in range(len(segmentation)) if i != j]\n",
    "    che_dist = [weighted_distance(segmentation[i], segmentation[j], weights, 'chebyshev')\n",
    "                for i in range(len(segmentation)) for j in range(len(segmentation)) if i != j]\n",
    "    index_i = [i for i in range(len(segmentation)) for j in range(len(segmentation)) if i != j]\n",
    "\n",
    "    return euc_dist, man_dist, che_dist, index_i\n"
   ]
  },
  {
   "cell_type": "code",
   "execution_count": 8,
   "metadata": {},
   "outputs": [],
   "source": [
    "# Distances between all pairs of centroids are calculated \n",
    "euc_dist_ctr, man_dist_ctr, che_dist_ctr, index_i_ctr = distances(centr, spacing)\n",
    "dist_ctr = np.array([euc_dist_ctr, man_dist_ctr, che_dist_ctr, index_i_ctr])"
   ]
  },
  {
   "cell_type": "code",
   "execution_count": 9,
   "metadata": {},
   "outputs": [],
   "source": [
    "# Function that gives back all the euclidian distances between one specific \n",
    "# lesion and all the others \n",
    "def lesion_distances(index): \n",
    "    # Give back the array of euclidian distances between one specific lesion and the others\n",
    "    d = dist_ctr[0, np.where(dist_ctr[3] == index)[0]]\n",
    "    return d"
   ]
  },
  {
   "cell_type": "code",
   "execution_count": 10,
   "metadata": {},
   "outputs": [
    {
     "data": {
      "text/html": [
       "<div>\n",
       "<style scoped>\n",
       "    .dataframe tbody tr th:only-of-type {\n",
       "        vertical-align: middle;\n",
       "    }\n",
       "\n",
       "    .dataframe tbody tr th {\n",
       "        vertical-align: top;\n",
       "    }\n",
       "\n",
       "    .dataframe thead th {\n",
       "        text-align: right;\n",
       "    }\n",
       "</style>\n",
       "<table border=\"1\" class=\"dataframe\">\n",
       "  <thead>\n",
       "    <tr style=\"text-align: right;\">\n",
       "      <th></th>\n",
       "      <th>Height</th>\n",
       "      <th>Weight</th>\n",
       "      <th>BSA</th>\n",
       "      <th>Dmax_patient</th>\n",
       "      <th>Dmax_bulk</th>\n",
       "      <th>Spread_bulk</th>\n",
       "      <th>Spread_patient</th>\n",
       "      <th>SDmax_euc</th>\n",
       "      <th>SDmax_man</th>\n",
       "      <th>SDmax_che</th>\n",
       "    </tr>\n",
       "  </thead>\n",
       "  <tbody>\n",
       "    <tr>\n",
       "      <th>0</th>\n",
       "      <td>169.0</td>\n",
       "      <td>72.0</td>\n",
       "      <td>1.838478</td>\n",
       "      <td>49.759845</td>\n",
       "      <td>44.61333</td>\n",
       "      <td>440.879461</td>\n",
       "      <td>641.934499</td>\n",
       "      <td>27.065787</td>\n",
       "      <td>42.649615</td>\n",
       "      <td>26.228138</td>\n",
       "    </tr>\n",
       "  </tbody>\n",
       "</table>\n",
       "</div>"
      ],
      "text/plain": [
       "   Height  Weight       BSA  Dmax_patient  Dmax_bulk  Spread_bulk   \n",
       "0   169.0    72.0  1.838478     49.759845   44.61333   440.879461  \\\n",
       "\n",
       "   Spread_patient  SDmax_euc  SDmax_man  SDmax_che  \n",
       "0      641.934499  27.065787  42.649615  26.228138  "
      ]
     },
     "execution_count": 10,
     "metadata": {},
     "output_type": "execute_result"
    }
   ],
   "source": [
    "#%% Calculate parameters\n",
    "\n",
    "# Calculation of parameters, based on centroid distances \n",
    "# Dmax_patient: (Euclidian) Distance between the two lesions that are the farthest away from each other. \n",
    "Dmax_patient = max(euc_dist_ctr)\n",
    "\n",
    "# Dmax_bulk: (Euclidian) Distance between the largest lesion and the one the farthest away from it. \n",
    "# Find largest lesion first \n",
    "sizes_of_lesions = [sum(data, labeled_data, index = i)\n",
    "                    for i in range(1, num_features+1)]\n",
    "largest_size = max(sizes_of_lesions) # how many pixels does the largest lesion have?\n",
    "largest_index = np.where(sizes_of_lesions == largest_size)[0][0] # which Python Index does the largest lesion have?\n",
    "largest_label = largest_index + 1 # which Label does the largest lesion have?  \n",
    "#print('The largest lesion has label index ' + str(largest_label))\n",
    "# Calculate the parameter\n",
    "Dmax_bulk = max(lesion_distances(largest_index))\n",
    "\n",
    "# SPREAD_bulk: Sum of the euclidian distances between the largest lesion and all the other lesions.\n",
    "Spread_bulk = np.sum(lesion_distances(largest_index))\n",
    "\n",
    "# SPREAD_patient: Over all lesions, the maximum of the sum of distances from one lesion to all the others.\n",
    "sums = [np.sum(lesion_distances(i)) for i in range(num_features)]\n",
    "Spread_patient = max(sums)\n",
    "\n",
    "# SDmax_euc: Dmax_patient, normalized by BSA\n",
    "SDmax_euc = Dmax_patient/pat_BSA\n",
    "\n",
    "# SDmax_man: Maximum Manhattan distance between lesions, normalized by BSA. \n",
    "SDmax_man = max(man_dist_ctr)/pat_BSA\n",
    "\n",
    "# SDmax_che: Maximum Chebyshev distance between lesions, normalized by BSA. \n",
    "SDmax_che = max(che_dist_ctr)/pat_BSA\n",
    "\n",
    "#%% Add important features to Results file (output)\n",
    "results_dict = {\n",
    "    'Height': [pat_height],\n",
    "    'Weight': [pat_weight],\n",
    "    'BSA': [pat_BSA],\n",
    "    'Dmax_patient': [Dmax_patient],\n",
    "    'Dmax_bulk': [Dmax_bulk],\n",
    "    'Spread_bulk': [Spread_bulk],\n",
    "    'Spread_patient': [Spread_patient],\n",
    "    'SDmax_euc': [SDmax_euc],\n",
    "    'SDmax_man': [SDmax_man],\n",
    "    'SDmax_che': [SDmax_che]\n",
    "}\n",
    "\n",
    "# Convertir el diccionario en un DataFrame\n",
    "results_df = pd.DataFrame(results_dict)\n",
    "\n",
    "# Distancias en milimetros\n",
    "results_df"
   ]
  }
 ],
 "metadata": {
  "kernelspec": {
   "display_name": "Python 3",
   "language": "python",
   "name": "python3"
  },
  "language_info": {
   "codemirror_mode": {
    "name": "ipython",
    "version": 3
   },
   "file_extension": ".py",
   "mimetype": "text/x-python",
   "name": "python",
   "nbconvert_exporter": "python",
   "pygments_lexer": "ipython3",
   "version": "3.11.3"
  },
  "orig_nbformat": 4
 },
 "nbformat": 4,
 "nbformat_minor": 2
}
